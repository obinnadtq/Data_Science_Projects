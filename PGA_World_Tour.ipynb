{
 "cells": [
  {
   "cell_type": "markdown",
   "metadata": {},
   "source": [
    "# 2019 PGA Tour Golf Data"
   ]
  },
  {
   "cell_type": "code",
   "execution_count": 134,
   "metadata": {},
   "outputs": [],
   "source": [
    "#import libraries\n",
    "import pandas as pd\n",
    "import numpy as np\n",
    "import matplotlib.pyplot as plt\n",
    "import seaborn as sns\n",
    "%matplotlib inline"
   ]
  },
  {
   "cell_type": "code",
   "execution_count": 135,
   "metadata": {},
   "outputs": [],
   "source": [
    "#read the data\n",
    "df = pd.read_csv('2019_data.csv',encoding = 'latin-1')"
   ]
  },
  {
   "cell_type": "code",
   "execution_count": 136,
   "metadata": {},
   "outputs": [
    {
     "data": {
      "text/html": [
       "<div>\n",
       "<style scoped>\n",
       "    .dataframe tbody tr th:only-of-type {\n",
       "        vertical-align: middle;\n",
       "    }\n",
       "\n",
       "    .dataframe tbody tr th {\n",
       "        vertical-align: top;\n",
       "    }\n",
       "\n",
       "    .dataframe thead th {\n",
       "        text-align: right;\n",
       "    }\n",
       "</style>\n",
       "<table border=\"1\" class=\"dataframe\">\n",
       "  <thead>\n",
       "    <tr style=\"text-align: right;\">\n",
       "      <th></th>\n",
       "      <th>Player Name</th>\n",
       "      <th>Date</th>\n",
       "      <th>Statistic</th>\n",
       "      <th>Variable</th>\n",
       "      <th>Value</th>\n",
       "    </tr>\n",
       "  </thead>\n",
       "  <tbody>\n",
       "    <tr>\n",
       "      <th>0</th>\n",
       "      <td>Cameron Champ</td>\n",
       "      <td>2019-08-18</td>\n",
       "      <td>Driving Distance</td>\n",
       "      <td>Driving Distance - (ROUNDS)</td>\n",
       "      <td>78</td>\n",
       "    </tr>\n",
       "    <tr>\n",
       "      <th>1</th>\n",
       "      <td>Rory McIlroy</td>\n",
       "      <td>2019-08-18</td>\n",
       "      <td>Driving Distance</td>\n",
       "      <td>Driving Distance - (ROUNDS)</td>\n",
       "      <td>68</td>\n",
       "    </tr>\n",
       "    <tr>\n",
       "      <th>2</th>\n",
       "      <td>Luke List</td>\n",
       "      <td>2019-08-18</td>\n",
       "      <td>Driving Distance</td>\n",
       "      <td>Driving Distance - (ROUNDS)</td>\n",
       "      <td>66</td>\n",
       "    </tr>\n",
       "    <tr>\n",
       "      <th>3</th>\n",
       "      <td>Wyndham Clark</td>\n",
       "      <td>2019-08-18</td>\n",
       "      <td>Driving Distance</td>\n",
       "      <td>Driving Distance - (ROUNDS)</td>\n",
       "      <td>87</td>\n",
       "    </tr>\n",
       "    <tr>\n",
       "      <th>4</th>\n",
       "      <td>Dustin Johnson</td>\n",
       "      <td>2019-08-18</td>\n",
       "      <td>Driving Distance</td>\n",
       "      <td>Driving Distance - (ROUNDS)</td>\n",
       "      <td>69</td>\n",
       "    </tr>\n",
       "  </tbody>\n",
       "</table>\n",
       "</div>"
      ],
      "text/plain": [
       "      Player Name        Date         Statistic                     Variable  \\\n",
       "0   Cameron Champ  2019-08-18  Driving Distance  Driving Distance - (ROUNDS)   \n",
       "1    Rory McIlroy  2019-08-18  Driving Distance  Driving Distance - (ROUNDS)   \n",
       "2       Luke List  2019-08-18  Driving Distance  Driving Distance - (ROUNDS)   \n",
       "3   Wyndham Clark  2019-08-18  Driving Distance  Driving Distance - (ROUNDS)   \n",
       "4  Dustin Johnson  2019-08-18  Driving Distance  Driving Distance - (ROUNDS)   \n",
       "\n",
       "  Value  \n",
       "0    78  \n",
       "1    68  \n",
       "2    66  \n",
       "3    87  \n",
       "4    69  "
      ]
     },
     "execution_count": 136,
     "metadata": {},
     "output_type": "execute_result"
    }
   ],
   "source": [
    "#view the head of the data\n",
    "df.head()"
   ]
  },
  {
   "cell_type": "code",
   "execution_count": 137,
   "metadata": {},
   "outputs": [
    {
     "data": {
      "text/plain": [
       "Player Name       478\n",
       "Date                0\n",
       "Statistic           0\n",
       "Variable            0\n",
       "Value          169727\n",
       "dtype: int64"
      ]
     },
     "execution_count": 137,
     "metadata": {},
     "output_type": "execute_result"
    }
   ],
   "source": [
    "#check the null values in the data\n",
    "df.isnull().sum()"
   ]
  },
  {
   "cell_type": "code",
   "execution_count": 138,
   "metadata": {},
   "outputs": [],
   "source": [
    "#convert to pandas datetime\n",
    "df['Date'] = pd.to_datetime(df['Date'])"
   ]
  },
  {
   "cell_type": "code",
   "execution_count": 139,
   "metadata": {},
   "outputs": [],
   "source": [
    "df['Year'] = df['Date'].apply(lambda time: time.year)\n",
    "df['Month'] = df['Date'].apply(lambda time: time.month)\n",
    "df['Day of Week'] = df['Date'].apply(lambda time: time.dayofweek)"
   ]
  },
  {
   "cell_type": "code",
   "execution_count": 140,
   "metadata": {},
   "outputs": [
    {
     "data": {
      "text/html": [
       "<div>\n",
       "<style scoped>\n",
       "    .dataframe tbody tr th:only-of-type {\n",
       "        vertical-align: middle;\n",
       "    }\n",
       "\n",
       "    .dataframe tbody tr th {\n",
       "        vertical-align: top;\n",
       "    }\n",
       "\n",
       "    .dataframe thead th {\n",
       "        text-align: right;\n",
       "    }\n",
       "</style>\n",
       "<table border=\"1\" class=\"dataframe\">\n",
       "  <thead>\n",
       "    <tr style=\"text-align: right;\">\n",
       "      <th></th>\n",
       "      <th>Player Name</th>\n",
       "      <th>Date</th>\n",
       "      <th>Statistic</th>\n",
       "      <th>Variable</th>\n",
       "      <th>Value</th>\n",
       "      <th>Year</th>\n",
       "      <th>Month</th>\n",
       "      <th>Day of Week</th>\n",
       "    </tr>\n",
       "  </thead>\n",
       "  <tbody>\n",
       "    <tr>\n",
       "      <th>0</th>\n",
       "      <td>Cameron Champ</td>\n",
       "      <td>2019-08-18</td>\n",
       "      <td>Driving Distance</td>\n",
       "      <td>Driving Distance - (ROUNDS)</td>\n",
       "      <td>78</td>\n",
       "      <td>2019</td>\n",
       "      <td>8</td>\n",
       "      <td>6</td>\n",
       "    </tr>\n",
       "    <tr>\n",
       "      <th>1</th>\n",
       "      <td>Rory McIlroy</td>\n",
       "      <td>2019-08-18</td>\n",
       "      <td>Driving Distance</td>\n",
       "      <td>Driving Distance - (ROUNDS)</td>\n",
       "      <td>68</td>\n",
       "      <td>2019</td>\n",
       "      <td>8</td>\n",
       "      <td>6</td>\n",
       "    </tr>\n",
       "    <tr>\n",
       "      <th>2</th>\n",
       "      <td>Luke List</td>\n",
       "      <td>2019-08-18</td>\n",
       "      <td>Driving Distance</td>\n",
       "      <td>Driving Distance - (ROUNDS)</td>\n",
       "      <td>66</td>\n",
       "      <td>2019</td>\n",
       "      <td>8</td>\n",
       "      <td>6</td>\n",
       "    </tr>\n",
       "    <tr>\n",
       "      <th>3</th>\n",
       "      <td>Wyndham Clark</td>\n",
       "      <td>2019-08-18</td>\n",
       "      <td>Driving Distance</td>\n",
       "      <td>Driving Distance - (ROUNDS)</td>\n",
       "      <td>87</td>\n",
       "      <td>2019</td>\n",
       "      <td>8</td>\n",
       "      <td>6</td>\n",
       "    </tr>\n",
       "    <tr>\n",
       "      <th>4</th>\n",
       "      <td>Dustin Johnson</td>\n",
       "      <td>2019-08-18</td>\n",
       "      <td>Driving Distance</td>\n",
       "      <td>Driving Distance - (ROUNDS)</td>\n",
       "      <td>69</td>\n",
       "      <td>2019</td>\n",
       "      <td>8</td>\n",
       "      <td>6</td>\n",
       "    </tr>\n",
       "  </tbody>\n",
       "</table>\n",
       "</div>"
      ],
      "text/plain": [
       "      Player Name       Date         Statistic                     Variable  \\\n",
       "0   Cameron Champ 2019-08-18  Driving Distance  Driving Distance - (ROUNDS)   \n",
       "1    Rory McIlroy 2019-08-18  Driving Distance  Driving Distance - (ROUNDS)   \n",
       "2       Luke List 2019-08-18  Driving Distance  Driving Distance - (ROUNDS)   \n",
       "3   Wyndham Clark 2019-08-18  Driving Distance  Driving Distance - (ROUNDS)   \n",
       "4  Dustin Johnson 2019-08-18  Driving Distance  Driving Distance - (ROUNDS)   \n",
       "\n",
       "  Value  Year  Month  Day of Week  \n",
       "0    78  2019      8            6  \n",
       "1    68  2019      8            6  \n",
       "2    66  2019      8            6  \n",
       "3    87  2019      8            6  \n",
       "4    69  2019      8            6  "
      ]
     },
     "execution_count": 140,
     "metadata": {},
     "output_type": "execute_result"
    }
   ],
   "source": [
    "df.head()"
   ]
  },
  {
   "cell_type": "code",
   "execution_count": 141,
   "metadata": {},
   "outputs": [
    {
     "data": {
      "text/plain": [
       "array(['Driving Distance', 'Driving Accuracy Percentage',\n",
       "       'Greens in Regulation Percentage', 'Putting Average',\n",
       "       'Par Breakers', 'Total Eagles', 'Total Birdies',\n",
       "       'Scoring Average (Actual)', 'Official Money',\n",
       "       'Sand Save Percentage', 'Par 3 Birdie or Better Leaders',\n",
       "       'Par 4 Birdie or Better Leaders', 'Par 5 Birdie or Better Leaders',\n",
       "       'Birdie or Better Conversion Percentage', 'Putts Per Round',\n",
       "       'Scoring Average', 'All-Around Ranking', 'Total Driving',\n",
       "       'Scrambling', 'Ryder Cup Points', 'PGA Championship Points',\n",
       "       'Putts made Distance', 'Top 10 Finishes', 'Non-member Earnings',\n",
       "       'Par 3 Scoring Average', 'Par 4 Scoring Average',\n",
       "       'Par 5 Scoring Average', \"3-Putt Avoidance - 15-20'\",\n",
       "       \"3-Putt Avoidance - 20-25'\", \"3-Putt Avoidance > 25'\",\n",
       "       'Current Par or Better Streak', \"Rounds in the 60's\",\n",
       "       'Money per Event Leaders', 'Eagles (Holes per)', 'Birdie Average',\n",
       "       'Ball Striking', 'Longest Drives', 'Bounce Back',\n",
       "       'Par 3 Performance', 'Par 4 Performance', 'Par 5 Performance',\n",
       "       'Official World Golf Ranking', 'GIR Percentage from Fairway',\n",
       "       'Total Money (Official and Unofficial)',\n",
       "       'GIR Percentage from Other than Fairway',\n",
       "       'Front 9 Scoring Average', 'Back 9 Scoring Average',\n",
       "       'First Tee Early Scoring Average',\n",
       "       'Tenth Tee Early Scoring Average',\n",
       "       'First Tee Late Scoring Average', 'Tenth Tee Late Scoring Average',\n",
       "       'Hit Fairway Percentage', 'Driving Pct. 300+ (All Drives)',\n",
       "       'Driving Pct. 280-300 (All Drives)',\n",
       "       'Driving Pct. 260-280 (All Drives)',\n",
       "       'Driving Pct. 240-260 (All Drives)',\n",
       "       'Driving Pct. <= 240 (All Drives)', 'Final Round Performance',\n",
       "       'Top 10 Final Round Performance', 'Front 9 Par 3 Scoring Average',\n",
       "       'Back 9 Par 3 Scoring Average', 'Early Par 3 Scoring Average',\n",
       "       'Late Par 3 Scoring Average',\n",
       "       'First Tee Early Par 3 Scoring Average',\n",
       "       'Tenth Tee Early Par 3 Scoring Average',\n",
       "       'First Tee Late Par 3 Scoring Average',\n",
       "       'Tenth Tee Late Par 3 Scoring Average',\n",
       "       'Front 9 Par 4 Scoring Average', 'Back 9 Par 4 Scoring Average',\n",
       "       'Early Par 4 Scoring Average', 'Late Par 4 Scoring Average',\n",
       "       'First Tee Early Par 4 Scoring Average',\n",
       "       'Tenth Tee Early Par 4 Scoring Average',\n",
       "       'First Tee Late Par 4 Scoring Average',\n",
       "       'Tenth Tee Late Par 4 Scoring Average',\n",
       "       'Front 9 Par 5 Scoring Average', 'Back 9 Par 5 Scoring Average',\n",
       "       'Early Par 5 Scoring Average', 'Late Par 5 Scoring Average',\n",
       "       'First Tee Early Par 5 Scoring Average',\n",
       "       'Tenth Tee Early Par 5 Scoring Average',\n",
       "       'First Tee Late Par 5 Scoring Average',\n",
       "       'Tenth Tee Late Par 5 Scoring Average', 'Late Scoring Average',\n",
       "       'Best YTD Streak w/o a 3-Putt', 'Best YTD 1-Putt or Better Streak',\n",
       "       'Consecutive Sand Saves', 'Consecutive Fairways Hit',\n",
       "       'Consecutive GIR', 'Lowest Round', 'Victory Leaders',\n",
       "       'Back 9 Lowest Round', 'First Tee Early Lowest Round',\n",
       "       'Tenth Tee Early Lowest Round', 'First Tee Late Lowest Round',\n",
       "       'Tenth Tee Late Lowest Round', 'Top 5 Final Round Performance',\n",
       "       '11-25 Final Round Performance', '25+ Final Round Performance',\n",
       "       'Driving Distance - All Drives', 'GIR Percentage - 200+ yards',\n",
       "       'GIR Percentage - 175-200 yards', 'GIR Percentage - 150-175 yards',\n",
       "       'GIR Percentage - 125-150 yards', 'GIR Percentage - < 125 yards',\n",
       "       'Proximity to Hole', 'Approaches from > 200 yards',\n",
       "       'Approaches from 175-200 yards', 'Approaches from 150-175 yards',\n",
       "       'Approaches from 125-150 yards', 'Approaches from 50-125 yards',\n",
       "       \"Putting from 3'\", \"Putting from 4'\", \"Putting from 5'\",\n",
       "       \"Putting from 6'\", \"Putting from 7'\", \"Putting from 8'\",\n",
       "       \"Putting from 9'\", \"Putting from 10'\", 'Approach Putt Performance',\n",
       "       'Total Hole Outs', 'Longest Hole Outs (in yards)',\n",
       "       'Birdie or Better Percentage', \"Putting from - > 10'\",\n",
       "       'Birdie or Better Percentage - 200+ yards',\n",
       "       'Birdie or Better Percentage - 175-200 yards',\n",
       "       'Birdie or Better Percentage - 150-175 yards',\n",
       "       'Birdie or Better Percentage - 125-150 yards',\n",
       "       'Birdie or Better Percentage - < 125 yards',\n",
       "       'Scrambling from the Sand', 'Scrambling from the Rough',\n",
       "       'Scrambling from the Fringe', 'Scrambling from Other Locations',\n",
       "       'Scrambling from > 30 yards', 'Scrambling from 20-30 yards',\n",
       "       'Scrambling from 10-20 yards', 'Scrambling from < 10 yards',\n",
       "       'Sand Saves from 30+ yards', 'Sand Saves from 20-30 yards',\n",
       "       'Sand Saves from 10-20 yards', 'Sand Saves from < 10 yards',\n",
       "       'Proximity to Hole (ARG)', 'Proximity to Hole from Sand',\n",
       "       'Proximity to Hole from Rough', 'Proximity to Hole from Fringe',\n",
       "       'Proximity to Hole from Other Locations',\n",
       "       'Proximity to Hole from 30+ yards',\n",
       "       'Proximity to Hole from 20-30 yards',\n",
       "       'Proximity to Hole from 10-20 yards',\n",
       "       'Proximity to Hole from < 10 yards', \"GIR Putting - Inside 5'\",\n",
       "       \"GIR Putting - 5-10'\", \"GIR Putting - 10-15'\",\n",
       "       \"GIR Putting - 15-20'\", \"GIR Putting - 20-25'\",\n",
       "       \"GIR Putting - > 25'\", 'Average Putting Distance - GIR 1 Putts',\n",
       "       'Average Putting Distance - GIR 2 Putts',\n",
       "       'Average Putting Distance - GIR 3 Putts', '1-Putts per Round',\n",
       "       '2-Putts per Round', '3-Putts per Round', '3+ Putts per Round',\n",
       "       'Overall Putting Average', \"Putting from Inside 5'\",\n",
       "       \"Putting from 5-10'\", \"Putting from - 10-15'\",\n",
       "       \"Putting from - 15-20'\", \"Putting from - 20-25'\",\n",
       "       \"Putting from - > 25'\", 'Average Putting Distance - All 1 putts',\n",
       "       'Average Putting Distance - All 2 putts',\n",
       "       'Average Putting Distance - All 3 putts', 'One-Putt Percentage',\n",
       "       'One-Putt Percentage - Round 1', 'Going for the Green',\n",
       "       \"Total 1 Putts - Inside 5'\", \"Total 1 Putts - 5-10'\",\n",
       "       \"Total 1 Putts - 10-15'\", \"Total 1 Putts - 15-20'\",\n",
       "       \"Total 1 Putts - 20-25'\", \"Total 1 Putts - > 25'\",\n",
       "       '3-Putt Avoidance', 'Fairway Proximity', 'Left Rough Proximity',\n",
       "       'Right Rough Proximity', \"Putts Made Per Event Over 10'\",\n",
       "       \"Putts Made Per Event Over 20'\", 'Par 5 Going for the Green',\n",
       "       'Rough Proximity', 'Average Distance of Putts made',\n",
       "       \"Total 3 Putts - Inside 5'\", \"Total 3 Putts - 5-10'\",\n",
       "       \"Total 3 Putts - 10-15'\", \"Total 3 Putts - 15-20'\",\n",
       "       \"Total 3 Putts - 20-25'\", \"Total 3 Putts - > 25'\",\n",
       "       'Par 4 Eagle Leaders', 'Par 5 Eagle Leaders',\n",
       "       'Consecutive Par 3 Birdies', 'Consecutive Par 4 Birdies',\n",
       "       'Consecutive Par 5 Birdies', 'Consecutive Holes Below Par',\n",
       "       '6-10 Final Round Performance', 'Driving Pct. 300+ (Measured)',\n",
       "       'Driving Pct. 280-300 (Measured)',\n",
       "       'Driving Pct. 260-280 (Measured)',\n",
       "       'Driving Pct. 240-260 (Measured)',\n",
       "       'Driving Pct. <= 240 (Measured)', 'Left Rough Tendency',\n",
       "       'Right Rough Tendency', 'Missed Fairway Percent - Other',\n",
       "       'Scrambling Rough (RTP Score)', 'Scrambling Fringe (RTP Score)',\n",
       "       'Scrambling > 30 yds (RTP Score)',\n",
       "       'Scrambling 20-30 yds (RTP Score)',\n",
       "       'Scrambling 10-20 yds (RTP Score)',\n",
       "       'Approaches Left Rough (RTP Score)',\n",
       "       'Approaches Right Rough (RTP Score)',\n",
       "       'Fairway Approach (RTP Score)', 'Approach < 125 yards (RTP Score)',\n",
       "       'Approach 125-150 yards (RTP Score)',\n",
       "       'Approach 150-175 yards (RTP Score)',\n",
       "       'Approach 175-200 yards (RTP Score)',\n",
       "       'Approach > 200 yards (RTP Score)',\n",
       "       'Scrambling Average Distance to Hole',\n",
       "       'Current Streak without a 3-Putt', \"Putting - Inside 10'\",\n",
       "       \"Putting from 4-8'\", 'Going for the Green - Hit Green Pct.',\n",
       "       'Driving Pct. 300-320 (Measured)', 'Driving Pct. 320+ (Measured)',\n",
       "       'Longest Putts', 'Average Approach Shot Distance',\n",
       "       \"Putting from 5-15'\", \"Putting from 15-25'\",\n",
       "       'Approaches from inside 100 yards', 'GIR Percentage - < 100 yards',\n",
       "       'Approaches from > 100 yards', 'GIR Percentage - 100+ yards',\n",
       "       'Birdie or Better Percentage - Fairway',\n",
       "       'Birdie or Better Percentage - Left Rough',\n",
       "       'Birdie or Better Percentage - Right Rough',\n",
       "       'Birdie or Better Percentage - Rough',\n",
       "       'Percentage of Available Purse Won',\n",
       "       'Average Approach Distance - Birdie or Better',\n",
       "       'Average Approach Distance - Par',\n",
       "       'Average Approach Distance - Bogey or Worse',\n",
       "       'Percentage of Yardage covered by Tee Shots',\n",
       "       \"Percentage of Yardage covered by Tee Shots - Par 4's\",\n",
       "       \"Percentage of Yardage covered by Tee Shots - Par 5's\",\n",
       "       'Last 5 Events - Power', 'Last 5 Events - Accuracy',\n",
       "       'Last 5 Events - Short Game', 'Last 5 Events - Putting',\n",
       "       'Last 5 Events - Scoring', 'Last 15 Events - Power',\n",
       "       'Last 15 Events - Accuracy', 'Last 15 Events - Short Game',\n",
       "       'Last 15 Events - Putting', 'Last 15 Events - Scoring',\n",
       "       'Going for the Green - Birdie or Better',\n",
       "       'Approaches from 200-225 yards', 'Approaches from 225-250 yards',\n",
       "       'Approaches from 250-275 yards', 'Approaches from > 275 yards',\n",
       "       'Approaches from 50-75 yards (Rgh)',\n",
       "       'Approaches from 75-100 yards (Rgh)',\n",
       "       'Approaches from 100-125 yards (Rgh)',\n",
       "       'Approaches from 50-125 yards (Rgh)',\n",
       "       'Approaches from 125-150 yards (Rgh)',\n",
       "       'Approaches from 150-175 yards (Rgh)',\n",
       "       'Approaches from 175-200 yards (Rgh)',\n",
       "       'Approaches from > 200 yards (Rgh)',\n",
       "       'Approaches from inside 100 yards (Rgh)',\n",
       "       'Approaches from > 100 yards (Rgh)',\n",
       "       'Approaches from 200-225 yards (Rgh)',\n",
       "       'Approaches from 225-250 yards (Rgh)',\n",
       "       'Approaches from 250-275 yards (Rgh)',\n",
       "       'Approaches from > 275 yards (Rgh)',\n",
       "       'Approach 200-225 yards (RTP)', 'Approach 225-250 yards (RTP)',\n",
       "       'Approach 250-275 yards (RTP)', 'Approach > 275 yards (RTP)',\n",
       "       'Approaches 50-75 yards-Rgh (RTP)',\n",
       "       'Approaches 75-100 yards-Rgh (RTP)',\n",
       "       'Approaches 100-125 yards-Rgh (RTP)',\n",
       "       'Approaches 50-125 yards-Rgh (RTP)',\n",
       "       'Approaches 125-150 yards-Rgh (RTP)',\n",
       "       'Approaches 150-175 yards-Rgh (RTP)',\n",
       "       'Approaches 175-200 yards-Rgh (RTP)',\n",
       "       'Approaches > 200 yards-Rgh (RTP)',\n",
       "       'Approaches < 100 yards-Rgh (RTP)',\n",
       "       'Approaches > 100 yards-Rgh (RTP)',\n",
       "       'Approaches 200-225 yards-Rgh (RTP)',\n",
       "       'Approaches 225-250 yards-Rgh (RTP)',\n",
       "       'Approaches 250-275 yards-Rgh (RTP)',\n",
       "       'Approaches > 275 yards-Rgh (RTP)', 'FedExCup Season Points',\n",
       "       'FedExCup Playoffs Points', 'FedExCup Bonus Money',\n",
       "       'FedExCup Season Points for Non-Members', 'Club Head Speed',\n",
       "       'Ball Speed', 'Smash Factor', 'Launch Angle', 'Spin Rate',\n",
       "       'Distance to Apex', 'Apex Height', 'Hang Time', 'Carry Distance',\n",
       "       'Carry Efficiency', 'Total Distance Efficiency',\n",
       "       'Total Driving Efficiency', 'Bogey Avoidance',\n",
       "       'Birdie to Bogey Ratio', 'Reverse Bounce Back',\n",
       "       'Stroke Differential Field Average', 'Bogey Average',\n",
       "       'Distance from Edge of Fairway', 'Distance from Center of Fairway',\n",
       "       'Left Tendency', 'Right Tendency',\n",
       "       'Average Going for it Shot Distance (in Yards)',\n",
       "       \"Putting from 3-5'\", 'Total Putting', \"Putting from - > 20'\",\n",
       "       'Average Distance to Hole After Tee Shot',\n",
       "       'Average Distance after Going for it Shot',\n",
       "       'Driving Pct. 300-320 (All Drives)',\n",
       "       'Driving Pct. 320+ (All Drives)', 'GIR Pct. - Fairway Bunker',\n",
       "       'Rough Tendency', 'Greens or Fringe in Regulation',\n",
       "       'Good Drive Percentage', 'Bonus Putting',\n",
       "       'Average Distance of Birdie putts made',\n",
       "       'Average Distance of Eagle putts made',\n",
       "       'Percentage of potential money won',\n",
       "       '% of Potential Pts won - FedExCup Regular Season',\n",
       "       '% of Potential Pts won - FedExCup Playoffs',\n",
       "       'FedExCup Points per Event Leaders', 'SG: Putting',\n",
       "       'SG: Off-the-Tee', 'SG: Approach the Green',\n",
       "       'SG: Around the Green',\n",
       "       'Non-WGC FedExCup Season Points for Non-Members',\n",
       "       'FedExCup Standings', 'Consecutive Birdies Streak',\n",
       "       'Consecutive Birdies/Eagles streak', 'SG: Tee-to-Green',\n",
       "       'SG: Total', 'Approach 100-125 yards (RTP Score)',\n",
       "       'Approach 75-100 yards (RTP Score)',\n",
       "       'Approach 50-75 yards (RTP Score)', \"3-Putt Avoidance - Inside 5'\",\n",
       "       \"3-Putt Avoidance - 5-10'\", \"3-Putt Avoidance - 10-15'\",\n",
       "       \"GIR Putting Avg - 25-30'\", \"GIR Putting Avg - 30-35'\",\n",
       "       \"GIR Putting Avg - > 35'\", 'Approaches from 100-125 yards',\n",
       "       'Approaches from 75-100 yards', 'Approaches from 50-75 yards',\n",
       "       'GIR Percentage - 100-125 yards', 'GIR Percentage - 75-100 yards',\n",
       "       'GIR Percentage - < 75 yards', 'Right Rough Tendency (RTP Score)',\n",
       "       'Left Rough Tendency (RTP Score)', 'Power Rating',\n",
       "       'Accuracy Rating', 'Short Game Rating', 'Fairway Bunker Tendency',\n",
       "       'Early Scoring Average', 'Average Putting Distance - GIR 3+ Putts',\n",
       "       'Average Putting Distance - All 3+ putts',\n",
       "       'SG: Approach-the-Green', 'SG: Around-the-Green'], dtype=object)"
      ]
     },
     "execution_count": 141,
     "metadata": {},
     "output_type": "execute_result"
    }
   ],
   "source": [
    "#unique statistics\n",
    "df['Statistic'].unique()"
   ]
  },
  {
   "cell_type": "markdown",
   "metadata": {},
   "source": [
    "Data Visualization"
   ]
  },
  {
   "cell_type": "markdown",
   "metadata": {},
   "source": [
    "Visualization for Total Driving Distance"
   ]
  },
  {
   "cell_type": "code",
   "execution_count": 142,
   "metadata": {},
   "outputs": [
    {
     "data": {
      "text/plain": [
       "array(['Driving Distance - (ROUNDS)', 'Driving Distance - (AVG.)',\n",
       "       'Driving Distance - (TOTAL DISTANCE)', ...,\n",
       "       'SG: Around-the-Green - (MEASURED ROUNDS)',\n",
       "       'SG: Around-the-Green - (ROUNDS)',\n",
       "       'SG: Around-the-Green - (TOTAL SG:ARG)'], dtype=object)"
      ]
     },
     "execution_count": 142,
     "metadata": {},
     "output_type": "execute_result"
    }
   ],
   "source": [
    "df['Variable'].unique()"
   ]
  },
  {
   "cell_type": "code",
   "execution_count": 143,
   "metadata": {},
   "outputs": [],
   "source": [
    "df_variable1 = df[df['Variable'] == 'Driving Distance - (TOTAL DISTANCE)'].iloc[:,[0,4]]\n",
    "\n",
    "df_variable1['new_values'] = df_variable1['Value'].apply(lambda x : ''.join(x.split(',')))\n",
    "\n",
    "df_variable1['new_values'] = df_variable1['new_values'].astype(int)"
   ]
  },
  {
   "cell_type": "code",
   "execution_count": 144,
   "metadata": {},
   "outputs": [],
   "source": [
    "df_variable1 = df_variable1.drop('Value', axis=1)"
   ]
  },
  {
   "cell_type": "code",
   "execution_count": 145,
   "metadata": {},
   "outputs": [],
   "source": [
    "df_updated_variable1 = df_variable1.groupby('Player Name')['new_values'].max().sort_values(ascending = False)[:10].sort_values()"
   ]
  },
  {
   "cell_type": "code",
   "execution_count": 146,
   "metadata": {},
   "outputs": [
    {
     "data": {
      "text/plain": [
       "Text(0.5, 1.0, 'Top 10 Players by Driving Distance')"
      ]
     },
     "execution_count": 146,
     "metadata": {},
     "output_type": "execute_result"
    },
    {
     "data": {
      "image/png": "[encoded data removed]",
      "text/plain": [
       "<Figure size 864x360 with 1 Axes>"
      ]
     },
     "metadata": {
      "needs_background": "light"
     },
     "output_type": "display_data"
    }
   ],
   "source": [
    "plt.figure(figsize=(12,5))\n",
    "df_updated_variable1.plot.barh()\n",
    "plt.xlabel('Total Driving Distance')\n",
    "plt.title('Top 10 Players by Driving Distance')"
   ]
  },
  {
   "cell_type": "markdown",
   "metadata": {},
   "source": [
    "Visualization for Average Driving Distance"
   ]
  },
  {
   "cell_type": "code",
   "execution_count": 167,
   "metadata": {},
   "outputs": [],
   "source": [
    "df_variable2 = df[df['Variable'] == 'Driving Distance - (AVG.)'].iloc[:,[0,4]]"
   ]
  },
  {
   "cell_type": "code",
   "execution_count": 174,
   "metadata": {},
   "outputs": [],
   "source": [
    "df_variable2['Value'] = df_variable2['Value'].astype(float)"
   ]
  },
  {
   "cell_type": "code",
   "execution_count": 175,
   "metadata": {},
   "outputs": [
    {
     "data": {
      "text/html": [
       "<div>\n",
       "<style scoped>\n",
       "    .dataframe tbody tr th:only-of-type {\n",
       "        vertical-align: middle;\n",
       "    }\n",
       "\n",
       "    .dataframe tbody tr th {\n",
       "        vertical-align: top;\n",
       "    }\n",
       "\n",
       "    .dataframe thead th {\n",
       "        text-align: right;\n",
       "    }\n",
       "</style>\n",
       "<table border=\"1\" class=\"dataframe\">\n",
       "  <thead>\n",
       "    <tr style=\"text-align: right;\">\n",
       "      <th></th>\n",
       "      <th>Player Name</th>\n",
       "      <th>Value</th>\n",
       "    </tr>\n",
       "  </thead>\n",
       "  <tbody>\n",
       "    <tr>\n",
       "      <th>192</th>\n",
       "      <td>Cameron Champ</td>\n",
       "      <td>317.9</td>\n",
       "    </tr>\n",
       "    <tr>\n",
       "      <th>193</th>\n",
       "      <td>Rory McIlroy</td>\n",
       "      <td>314.0</td>\n",
       "    </tr>\n",
       "    <tr>\n",
       "      <th>194</th>\n",
       "      <td>Luke List</td>\n",
       "      <td>313.3</td>\n",
       "    </tr>\n",
       "    <tr>\n",
       "      <th>195</th>\n",
       "      <td>Wyndham Clark</td>\n",
       "      <td>311.8</td>\n",
       "    </tr>\n",
       "    <tr>\n",
       "      <th>196</th>\n",
       "      <td>Dustin Johnson</td>\n",
       "      <td>311.7</td>\n",
       "    </tr>\n",
       "  </tbody>\n",
       "</table>\n",
       "</div>"
      ],
      "text/plain": [
       "        Player Name  Value\n",
       "192   Cameron Champ  317.9\n",
       "193    Rory McIlroy  314.0\n",
       "194       Luke List  313.3\n",
       "195   Wyndham Clark  311.8\n",
       "196  Dustin Johnson  311.7"
      ]
     },
     "execution_count": 175,
     "metadata": {},
     "output_type": "execute_result"
    }
   ],
   "source": [
    "df_variable2.head()"
   ]
  },
  {
   "cell_type": "code",
   "execution_count": 176,
   "metadata": {},
   "outputs": [],
   "source": [
    "df_updated_variable2 = df_variable2.groupby('Player Name')['Value'].max().sort_values(ascending = False)[:10].sort_values()"
   ]
  },
  {
   "cell_type": "code",
   "execution_count": 177,
   "metadata": {},
   "outputs": [
    {
     "data": {
      "text/plain": [
       "Text(0.5, 1.0, 'Top 10 Players by Driving Distance')"
      ]
     },
     "execution_count": 177,
     "metadata": {},
     "output_type": "execute_result"
    },
    {
     "data": {
      "image/png": "[encoded data removed]",
      "text/plain": [
       "<Figure size 864x360 with 1 Axes>"
      ]
     },
     "metadata": {
      "needs_background": "light"
     },
     "output_type": "display_data"
    }
   ],
   "source": [
    "plt.figure(figsize=(12,5))\n",
    "df_updated_variable2.plot.barh()\n",
    "plt.xlabel('Average Driving Distance')\n",
    "plt.title('Top 10 Players by Driving Distance')"
   ]
  },
  {
   "cell_type": "markdown",
   "metadata": {},
   "source": [
    "Visualization for Rounds Driving Distance"
   ]
  },
  {
   "cell_type": "code",
   "execution_count": 178,
   "metadata": {},
   "outputs": [],
   "source": [
    "df_variable3 = df[df['Variable'] == 'Driving Distance - (ROUNDS)'].iloc[:,[0,4]]"
   ]
  },
  {
   "cell_type": "code",
   "execution_count": 180,
   "metadata": {},
   "outputs": [
    {
     "data": {
      "text/html": [
       "<div>\n",
       "<style scoped>\n",
       "    .dataframe tbody tr th:only-of-type {\n",
       "        vertical-align: middle;\n",
       "    }\n",
       "\n",
       "    .dataframe tbody tr th {\n",
       "        vertical-align: top;\n",
       "    }\n",
       "\n",
       "    .dataframe thead th {\n",
       "        text-align: right;\n",
       "    }\n",
       "</style>\n",
       "<table border=\"1\" class=\"dataframe\">\n",
       "  <thead>\n",
       "    <tr style=\"text-align: right;\">\n",
       "      <th></th>\n",
       "      <th>Player Name</th>\n",
       "      <th>Value</th>\n",
       "    </tr>\n",
       "  </thead>\n",
       "  <tbody>\n",
       "    <tr>\n",
       "      <th>0</th>\n",
       "      <td>Cameron Champ</td>\n",
       "      <td>78</td>\n",
       "    </tr>\n",
       "    <tr>\n",
       "      <th>1</th>\n",
       "      <td>Rory McIlroy</td>\n",
       "      <td>68</td>\n",
       "    </tr>\n",
       "    <tr>\n",
       "      <th>2</th>\n",
       "      <td>Luke List</td>\n",
       "      <td>66</td>\n",
       "    </tr>\n",
       "    <tr>\n",
       "      <th>3</th>\n",
       "      <td>Wyndham Clark</td>\n",
       "      <td>87</td>\n",
       "    </tr>\n",
       "    <tr>\n",
       "      <th>4</th>\n",
       "      <td>Dustin Johnson</td>\n",
       "      <td>69</td>\n",
       "    </tr>\n",
       "  </tbody>\n",
       "</table>\n",
       "</div>"
      ],
      "text/plain": [
       "      Player Name Value\n",
       "0   Cameron Champ    78\n",
       "1    Rory McIlroy    68\n",
       "2       Luke List    66\n",
       "3   Wyndham Clark    87\n",
       "4  Dustin Johnson    69"
      ]
     },
     "execution_count": 180,
     "metadata": {},
     "output_type": "execute_result"
    }
   ],
   "source": [
    "df_variable3.head()"
   ]
  },
  {
   "cell_type": "code",
   "execution_count": 181,
   "metadata": {},
   "outputs": [],
   "source": [
    "df_variable3['Value'] = df_variable3['Value'].astype(int)"
   ]
  },
  {
   "cell_type": "code",
   "execution_count": 182,
   "metadata": {},
   "outputs": [],
   "source": [
    "df_updated_variable3 = df_variable3.groupby('Player Name')['Value'].max().sort_values(ascending = False)[:10].sort_values()"
   ]
  },
  {
   "cell_type": "code",
   "execution_count": 183,
   "metadata": {},
   "outputs": [
    {
     "data": {
      "text/plain": [
       "Text(0.5, 1.0, 'Top 10 Players by Driving Distance')"
      ]
     },
     "execution_count": 183,
     "metadata": {},
     "output_type": "execute_result"
    },
    {
     "data": {
      "image/png": "[encoded data removed]",
      "text/plain": [
       "<Figure size 864x360 with 1 Axes>"
      ]
     },
     "metadata": {
      "needs_background": "light"
     },
     "output_type": "display_data"
    }
   ],
   "source": [
    "plt.figure(figsize=(12,5))\n",
    "df_updated_variable3.plot.barh()\n",
    "plt.xlabel('Driving Distance (Rounds)')\n",
    "plt.title('Top 10 Players by Driving Distance')"
   ]
  },
  {
   "cell_type": "markdown",
   "metadata": {},
   "source": [
    "Data Visualization of the top ten driving distance from January to August"
   ]
  },
  {
   "cell_type": "code",
   "execution_count": 184,
   "metadata": {},
   "outputs": [
    {
     "data": {
      "text/html": [
       "<div>\n",
       "<style scoped>\n",
       "    .dataframe tbody tr th:only-of-type {\n",
       "        vertical-align: middle;\n",
       "    }\n",
       "\n",
       "    .dataframe tbody tr th {\n",
       "        vertical-align: top;\n",
       "    }\n",
       "\n",
       "    .dataframe thead th {\n",
       "        text-align: right;\n",
       "    }\n",
       "</style>\n",
       "<table border=\"1\" class=\"dataframe\">\n",
       "  <thead>\n",
       "    <tr style=\"text-align: right;\">\n",
       "      <th></th>\n",
       "      <th>Player Name</th>\n",
       "      <th>Date</th>\n",
       "      <th>Statistic</th>\n",
       "      <th>Variable</th>\n",
       "      <th>Value</th>\n",
       "      <th>Year</th>\n",
       "      <th>Month</th>\n",
       "      <th>Day of Week</th>\n",
       "    </tr>\n",
       "  </thead>\n",
       "  <tbody>\n",
       "    <tr>\n",
       "      <th>0</th>\n",
       "      <td>Cameron Champ</td>\n",
       "      <td>2019-08-18</td>\n",
       "      <td>Driving Distance</td>\n",
       "      <td>Driving Distance - (ROUNDS)</td>\n",
       "      <td>78</td>\n",
       "      <td>2019</td>\n",
       "      <td>8</td>\n",
       "      <td>6</td>\n",
       "    </tr>\n",
       "    <tr>\n",
       "      <th>1</th>\n",
       "      <td>Rory McIlroy</td>\n",
       "      <td>2019-08-18</td>\n",
       "      <td>Driving Distance</td>\n",
       "      <td>Driving Distance - (ROUNDS)</td>\n",
       "      <td>68</td>\n",
       "      <td>2019</td>\n",
       "      <td>8</td>\n",
       "      <td>6</td>\n",
       "    </tr>\n",
       "    <tr>\n",
       "      <th>2</th>\n",
       "      <td>Luke List</td>\n",
       "      <td>2019-08-18</td>\n",
       "      <td>Driving Distance</td>\n",
       "      <td>Driving Distance - (ROUNDS)</td>\n",
       "      <td>66</td>\n",
       "      <td>2019</td>\n",
       "      <td>8</td>\n",
       "      <td>6</td>\n",
       "    </tr>\n",
       "    <tr>\n",
       "      <th>3</th>\n",
       "      <td>Wyndham Clark</td>\n",
       "      <td>2019-08-18</td>\n",
       "      <td>Driving Distance</td>\n",
       "      <td>Driving Distance - (ROUNDS)</td>\n",
       "      <td>87</td>\n",
       "      <td>2019</td>\n",
       "      <td>8</td>\n",
       "      <td>6</td>\n",
       "    </tr>\n",
       "    <tr>\n",
       "      <th>4</th>\n",
       "      <td>Dustin Johnson</td>\n",
       "      <td>2019-08-18</td>\n",
       "      <td>Driving Distance</td>\n",
       "      <td>Driving Distance - (ROUNDS)</td>\n",
       "      <td>69</td>\n",
       "      <td>2019</td>\n",
       "      <td>8</td>\n",
       "      <td>6</td>\n",
       "    </tr>\n",
       "  </tbody>\n",
       "</table>\n",
       "</div>"
      ],
      "text/plain": [
       "      Player Name       Date         Statistic                     Variable  \\\n",
       "0   Cameron Champ 2019-08-18  Driving Distance  Driving Distance - (ROUNDS)   \n",
       "1    Rory McIlroy 2019-08-18  Driving Distance  Driving Distance - (ROUNDS)   \n",
       "2       Luke List 2019-08-18  Driving Distance  Driving Distance - (ROUNDS)   \n",
       "3   Wyndham Clark 2019-08-18  Driving Distance  Driving Distance - (ROUNDS)   \n",
       "4  Dustin Johnson 2019-08-18  Driving Distance  Driving Distance - (ROUNDS)   \n",
       "\n",
       "  Value  Year  Month  Day of Week  \n",
       "0    78  2019      8            6  \n",
       "1    68  2019      8            6  \n",
       "2    66  2019      8            6  \n",
       "3    87  2019      8            6  \n",
       "4    69  2019      8            6  "
      ]
     },
     "execution_count": 184,
     "metadata": {},
     "output_type": "execute_result"
    }
   ],
   "source": [
    "df.head()"
   ]
  },
  {
   "cell_type": "code",
   "execution_count": 201,
   "metadata": {},
   "outputs": [],
   "source": [
    "df_new = df[df['Variable'] == 'Driving Distance - (TOTAL DISTANCE)'].iloc[:,[0,4,6]]\n"
   ]
  },
  {
   "cell_type": "code",
   "execution_count": 202,
   "metadata": {},
   "outputs": [
    {
     "data": {
      "text/html": [
       "<div>\n",
       "<style scoped>\n",
       "    .dataframe tbody tr th:only-of-type {\n",
       "        vertical-align: middle;\n",
       "    }\n",
       "\n",
       "    .dataframe tbody tr th {\n",
       "        vertical-align: top;\n",
       "    }\n",
       "\n",
       "    .dataframe thead th {\n",
       "        text-align: right;\n",
       "    }\n",
       "</style>\n",
       "<table border=\"1\" class=\"dataframe\">\n",
       "  <thead>\n",
       "    <tr style=\"text-align: right;\">\n",
       "      <th></th>\n",
       "      <th>Player Name</th>\n",
       "      <th>Value</th>\n",
       "      <th>Month</th>\n",
       "    </tr>\n",
       "  </thead>\n",
       "  <tbody>\n",
       "    <tr>\n",
       "      <th>384</th>\n",
       "      <td>Cameron Champ</td>\n",
       "      <td>48,322</td>\n",
       "      <td>8</td>\n",
       "    </tr>\n",
       "    <tr>\n",
       "      <th>385</th>\n",
       "      <td>Rory McIlroy</td>\n",
       "      <td>37,676</td>\n",
       "      <td>8</td>\n",
       "    </tr>\n",
       "    <tr>\n",
       "      <th>386</th>\n",
       "      <td>Luke List</td>\n",
       "      <td>39,481</td>\n",
       "      <td>8</td>\n",
       "    </tr>\n",
       "    <tr>\n",
       "      <th>387</th>\n",
       "      <td>Wyndham Clark</td>\n",
       "      <td>53,004</td>\n",
       "      <td>8</td>\n",
       "    </tr>\n",
       "    <tr>\n",
       "      <th>388</th>\n",
       "      <td>Dustin Johnson</td>\n",
       "      <td>38,656</td>\n",
       "      <td>8</td>\n",
       "    </tr>\n",
       "  </tbody>\n",
       "</table>\n",
       "</div>"
      ],
      "text/plain": [
       "        Player Name   Value  Month\n",
       "384   Cameron Champ  48,322      8\n",
       "385    Rory McIlroy  37,676      8\n",
       "386       Luke List  39,481      8\n",
       "387   Wyndham Clark  53,004      8\n",
       "388  Dustin Johnson  38,656      8"
      ]
     },
     "execution_count": 202,
     "metadata": {},
     "output_type": "execute_result"
    }
   ],
   "source": [
    "df_new.head()\n"
   ]
  },
  {
   "cell_type": "code",
   "execution_count": 204,
   "metadata": {},
   "outputs": [],
   "source": [
    "\n",
    "df_new['new_values'] = df_new['Value'].apply(lambda x : ''.join(x.split(',')))"
   ]
  },
  {
   "cell_type": "code",
   "execution_count": 206,
   "metadata": {},
   "outputs": [],
   "source": [
    "df_new = df_new.drop('Value',axis=1)"
   ]
  },
  {
   "cell_type": "code",
   "execution_count": 207,
   "metadata": {},
   "outputs": [
    {
     "data": {
      "text/html": [
       "<div>\n",
       "<style scoped>\n",
       "    .dataframe tbody tr th:only-of-type {\n",
       "        vertical-align: middle;\n",
       "    }\n",
       "\n",
       "    .dataframe tbody tr th {\n",
       "        vertical-align: top;\n",
       "    }\n",
       "\n",
       "    .dataframe thead th {\n",
       "        text-align: right;\n",
       "    }\n",
       "</style>\n",
       "<table border=\"1\" class=\"dataframe\">\n",
       "  <thead>\n",
       "    <tr style=\"text-align: right;\">\n",
       "      <th></th>\n",
       "      <th>Player Name</th>\n",
       "      <th>Month</th>\n",
       "      <th>new_values</th>\n",
       "    </tr>\n",
       "  </thead>\n",
       "  <tbody>\n",
       "    <tr>\n",
       "      <th>384</th>\n",
       "      <td>Cameron Champ</td>\n",
       "      <td>8</td>\n",
       "      <td>48322</td>\n",
       "    </tr>\n",
       "    <tr>\n",
       "      <th>385</th>\n",
       "      <td>Rory McIlroy</td>\n",
       "      <td>8</td>\n",
       "      <td>37676</td>\n",
       "    </tr>\n",
       "    <tr>\n",
       "      <th>386</th>\n",
       "      <td>Luke List</td>\n",
       "      <td>8</td>\n",
       "      <td>39481</td>\n",
       "    </tr>\n",
       "    <tr>\n",
       "      <th>387</th>\n",
       "      <td>Wyndham Clark</td>\n",
       "      <td>8</td>\n",
       "      <td>53004</td>\n",
       "    </tr>\n",
       "    <tr>\n",
       "      <th>388</th>\n",
       "      <td>Dustin Johnson</td>\n",
       "      <td>8</td>\n",
       "      <td>38656</td>\n",
       "    </tr>\n",
       "  </tbody>\n",
       "</table>\n",
       "</div>"
      ],
      "text/plain": [
       "        Player Name  Month new_values\n",
       "384   Cameron Champ      8      48322\n",
       "385    Rory McIlroy      8      37676\n",
       "386       Luke List      8      39481\n",
       "387   Wyndham Clark      8      53004\n",
       "388  Dustin Johnson      8      38656"
      ]
     },
     "execution_count": 207,
     "metadata": {},
     "output_type": "execute_result"
    }
   ],
   "source": [
    "df_new.head()"
   ]
  },
  {
   "cell_type": "code",
   "execution_count": 216,
   "metadata": {},
   "outputs": [],
   "source": [
    "df_new['new_values'] = df_new['new_values'].astype(int)"
   ]
  },
  {
   "cell_type": "code",
   "execution_count": 222,
   "metadata": {},
   "outputs": [
    {
     "data": {
      "text/plain": [
       "array([8, 7, 6, 1, 2, 3, 4, 5])"
      ]
     },
     "execution_count": 222,
     "metadata": {},
     "output_type": "execute_result"
    }
   ],
   "source": []
  },
  {
   "cell_type": "code",
   "execution_count": 223,
   "metadata": {},
   "outputs": [
    {
     "data": {
      "image/png": "[encoded data removed]",
      "text/plain": [
       "<Figure size 1584x1584 with 8 Axes>"
      ]
     },
     "metadata": {
      "needs_background": "light"
     },
     "output_type": "display_data"
    }
   ],
   "source": [
    "plt.figure(figsize=(22,22))\n",
    "for i in range(len(df_new['Month'].unique())):\n",
    "    df_new_month = df_new[df_new['Month'] == df_new['Month'].unique()[i]]\n",
    "    plt.subplot(4,2,i+1)\n",
    "    df_new_month.groupby('Player Name')['new_values'].max().sort_values(ascending = False)[:10].sort_values().plot.barh()\n",
    "    plt.xlabel('Meters')\n",
    "    plt.title('Top 10 Players by Driving Distance in month {}'. format(df_new['Month'].unique()[i]))\n",
    "    \n",
    "    "
   ]
  },
  {
   "cell_type": "markdown",
   "metadata": {},
   "source": [
    "Visualization for Total Eagles"
   ]
  },
  {
   "cell_type": "code",
   "execution_count": 234,
   "metadata": {},
   "outputs": [
    {
     "data": {
      "text/plain": [
       "Text(0.5, 1.0, 'Top 10 players by Total Eagles (Total)')"
      ]
     },
     "execution_count": 234,
     "metadata": {},
     "output_type": "execute_result"
    },
    {
     "data": {
      "image/png": "[encoded data removed]",
      "text/plain": [
       "<Figure size 1584x1584 with 2 Axes>"
      ]
     },
     "metadata": {
      "needs_background": "light"
     },
     "output_type": "display_data"
    }
   ],
   "source": [
    "plt.figure(figsize=(22,22))\n",
    "TER = df[df['Variable'] == 'Total Eagles - (ROUNDS)'].iloc[:,[0,4]]\n",
    "TER['Value'] = TER['Value'].astype(int)\n",
    "plt.subplot(1,2,1)\n",
    "TER.groupby('Player Name')['Value'].max().sort_values(ascending = False)[:10].sort_values().plot.barh()\n",
    "plt.xlabel('meters')\n",
    "plt.title('Top 10 players by Total Eagles (Rounds)')\n",
    "\n",
    "\n",
    "TET = df[df['Variable'] == 'Total Eagles - (TOTAL)'].iloc[:,[0,4]]\n",
    "TET['Value'] = TET['Value'].astype(float)\n",
    "plt.subplot(1,2,2)\n",
    "TET.groupby('Player Name')['Value'].max().sort_values(ascending = False)[:10].sort_values().plot.barh()\n",
    "plt.title('Top 10 players by Total Eagles (Total)')"
   ]
  }
 ],
 "metadata": {
  "kernelspec": {
   "display_name": "Python 3",
   "language": "python",
   "name": "python3"
  },
  "language_info": {
   "codemirror_mode": {
    "name": "ipython",
    "version": 3
   },
   "file_extension": ".py",
   "mimetype": "text/x-python",
   "name": "python",
   "nbconvert_exporter": "python",
   "pygments_lexer": "ipython3",
   "version": "3.7.3"
  }
 },
 "nbformat": 4,
 "nbformat_minor": 2
}
